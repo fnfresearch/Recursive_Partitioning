{
 "cells": [
  {
   "cell_type": "markdown",
   "id": "febcb1b7",
   "metadata": {
    "papermill": {
     "duration": 0.097884,
     "end_time": "2022-01-24T14:50:58.524025",
     "exception": false,
     "start_time": "2022-01-24T14:50:58.426141",
     "status": "completed"
    },
    "tags": []
   },
   "source": [
    "# Recursive Partitioning Guide"
   ]
  },
  {
   "cell_type": "markdown",
   "id": "cdd9bf54",
   "metadata": {
    "papermill": {
     "duration": 0.096605,
     "end_time": "2022-01-24T14:50:58.716054",
     "exception": false,
     "start_time": "2022-01-24T14:50:58.619449",
     "status": "completed"
    },
    "tags": []
   },
   "source": [
    "Author: Sam Kerns, M.A.\n",
    "\n",
    "Date: 1/21/2022"
   ]
  },
  {
   "cell_type": "markdown",
   "id": "6b2d086a",
   "metadata": {
    "papermill": {
     "duration": 0.096345,
     "end_time": "2022-01-24T14:50:58.907347",
     "exception": false,
     "start_time": "2022-01-24T14:50:58.811002",
     "status": "completed"
    },
    "tags": []
   },
   "source": [
    "## Why Recursive Partitioning?"
   ]
  },
  {
   "cell_type": "markdown",
   "id": "0bcd6eb2",
   "metadata": {
    "papermill": {
     "duration": 0.096478,
     "end_time": "2022-01-24T14:50:59.099861",
     "exception": false,
     "start_time": "2022-01-24T14:50:59.003383",
     "status": "completed"
    },
    "tags": []
   },
   "source": [
    "### Logistic Regression Has Its Limits"
   ]
  },
  {
   "cell_type": "markdown",
   "id": "ae71b0cb",
   "metadata": {
    "papermill": {
     "duration": 0.095388,
     "end_time": "2022-01-24T14:50:59.290657",
     "exception": false,
     "start_time": "2022-01-24T14:50:59.195269",
     "status": "completed"
    },
    "tags": []
   },
   "source": [
    "One of the most common problems in data science is predicting an outcome based on a number of independent variables. For example, we might be interested in what proportion of students reach benchmark reading scores by fourth grade depending on things like curriculum, hours of instruction, etc.\n",
    "\n",
    "The most typical approach to answering these types of questions is simple regression techniques. Specifically, logistic regression techniques are perhaps the most common and simple method for evaluating variables influence on a dichotomous outcome. However, logistic regression carries with in a number of assumptions that can sometimes prevent confidence in statistical results."
   ]
  },
  {
   "cell_type": "markdown",
   "id": "dcbea3d0",
   "metadata": {
    "papermill": {
     "duration": 0.095918,
     "end_time": "2022-01-24T14:50:59.481613",
     "exception": false,
     "start_time": "2022-01-24T14:50:59.385695",
     "status": "completed"
    },
    "tags": []
   },
   "source": [
    "### The Problem of Multicollinearity"
   ]
  },
  {
   "cell_type": "markdown",
   "id": "b6ec7f99",
   "metadata": {
    "papermill": {
     "duration": 0.097584,
     "end_time": "2022-01-24T14:50:59.674319",
     "exception": false,
     "start_time": "2022-01-24T14:50:59.576735",
     "status": "completed"
    },
    "tags": []
   },
   "source": [
    "In many datasets related to human behavior, multicollinearity is virtually impossible to avoid. Multicollinearity is a statistical phenomenon that occurs when independent variables used to predict a dependent variable are highly correlated to one another (or even causally related). Let's illustrate a practical example of multicollinearity by carrying on the example above and assume that we want to evaluate if students are meeting testing benchmarks. Let's say our independent variables are Socioeconomic Status, Grade, Hours of Instruction, Curriculum Selected, and Teacher Years of Experience."
   ]
  },
  {
   "cell_type": "markdown",
   "id": "faccb66a",
   "metadata": {
    "papermill": {
     "duration": 0.09573,
     "end_time": "2022-01-24T14:50:59.867512",
     "exception": false,
     "start_time": "2022-01-24T14:50:59.771782",
     "status": "completed"
    },
    "tags": []
   },
   "source": [
    "![multicollinearity](https://memegenerator.net/img/instances/62025447.jpg)"
   ]
  },
  {
   "cell_type": "markdown",
   "id": "fd61be8a",
   "metadata": {
    "papermill": {
     "duration": 0.096821,
     "end_time": "2022-01-24T14:51:00.059560",
     "exception": false,
     "start_time": "2022-01-24T14:50:59.962739",
     "status": "completed"
    },
    "tags": []
   },
   "source": [
    "At first blush, these variables may not appear to be directly related to one another. However, some of these variables could be causally-related to one another. Hours of Instruction in reading may be grade-dependent (where earlier grades receive more instruction than later grades) or Socioeconomic status may be related to Teacher Years of Experience (where more tenured teachers in a given geographic area flock to schools of higher or lower community wealth).\n",
    "\n",
    "When multicollinearity occurs in a logistic regression model, the results become unreliable. Sometimes an important interaction between IVs can be hidden, or the model's accuracy can be inappropriately inflated."
   ]
  },
  {
   "cell_type": "markdown",
   "id": "4fb4e8e8",
   "metadata": {
    "papermill": {
     "duration": 0.095637,
     "end_time": "2022-01-24T14:51:00.255718",
     "exception": false,
     "start_time": "2022-01-24T14:51:00.160081",
     "status": "completed"
    },
    "tags": []
   },
   "source": [
    "### The Problem of Sample Size"
   ]
  },
  {
   "cell_type": "markdown",
   "id": "04743621",
   "metadata": {
    "papermill": {
     "duration": 0.094938,
     "end_time": "2022-01-24T14:51:00.445366",
     "exception": false,
     "start_time": "2022-01-24T14:51:00.350428",
     "status": "completed"
    },
    "tags": []
   },
   "source": [
    "In statistics, increasing sample size (assuming the sampling technique is sound) is almost always a good move. However, in logistic regression, it's a necessity. Results become increasingly reliable in logistic regression as sample size increases. Additionally, if you have an outcome that is very UNLIKELY, perhaps the above-benchmark performance in an underperforming school, your minimum sample size must be even larger to capture a sufficiently saturated dataset that includes enough individuals with these low-incidence outcomes to be reliable."
   ]
  },
  {
   "cell_type": "markdown",
   "id": "c75157a8",
   "metadata": {
    "papermill": {
     "duration": 0.09493,
     "end_time": "2022-01-24T14:51:00.635352",
     "exception": false,
     "start_time": "2022-01-24T14:51:00.540422",
     "status": "completed"
    },
    "tags": []
   },
   "source": [
    "![samplesize](https://media.makeameme.org/created/your-sample-sizes-fc327a.jpg)"
   ]
  },
  {
   "cell_type": "markdown",
   "id": "7a9f17b4",
   "metadata": {
    "papermill": {
     "duration": 0.095767,
     "end_time": "2022-01-24T14:51:00.826533",
     "exception": false,
     "start_time": "2022-01-24T14:51:00.730766",
     "status": "completed"
    },
    "tags": []
   },
   "source": [
    "### The Problem of Missing Data"
   ]
  },
  {
   "cell_type": "markdown",
   "id": "49a9ef24",
   "metadata": {
    "papermill": {
     "duration": 0.095554,
     "end_time": "2022-01-24T14:51:01.017789",
     "exception": false,
     "start_time": "2022-01-24T14:51:00.922235",
     "status": "completed"
    },
    "tags": []
   },
   "source": [
    "Missing data are often problematic for logistic regression models, especially when missingness is non-random (which is often the case). Rubin (1976) classified missing data into three categories: Missing Completely at Random (MCAR), Missing at Random (MAR), and Missing Not at Random (MNAR).\n",
    "\n",
    "For a sufficiently large dataset, there are little concerns to be had with data that is MCAR or MAR. However, when the data are MNAR, we may have an analytics issue. What if the data are missing as a function of a third factor (measured or unmeasured). However do we contend with this? We could impute the data, but this may only serve to reinforce the effect of the data that are present rather than accurately inferring the value of the variables for which we are performing the imputation."
   ]
  },
  {
   "cell_type": "markdown",
   "id": "06e7af81",
   "metadata": {
    "papermill": {
     "duration": 0.095889,
     "end_time": "2022-01-24T14:51:01.209938",
     "exception": false,
     "start_time": "2022-01-24T14:51:01.114049",
     "status": "completed"
    },
    "tags": []
   },
   "source": [
    "![missing](https://pbs.twimg.com/media/D0kVZPPX0AA6xgd.png)"
   ]
  },
  {
   "cell_type": "markdown",
   "id": "e38842fb",
   "metadata": {
    "papermill": {
     "duration": 0.095041,
     "end_time": "2022-01-24T14:51:01.399942",
     "exception": false,
     "start_time": "2022-01-24T14:51:01.304901",
     "status": "completed"
    },
    "tags": []
   },
   "source": [
    "For example, let's supposed that we're looking to impute Teacher Years of Experience with the mean of the data present for that variable, but the teachers not reporting their years of experience are almost solely teachers with a small number of years (perhaps they are self-conscious about their lack of experience). Imputing the mean will now OVER-represent larger values for Teacher Years of Experience. Even nuanced imputation methods like [Multiple Imputation by Chained Equations (MICE)](https://www.jstatsoft.org/article/view/v045i03) will still struggle if presented with a non-random pattern of missingness that is not well-predicted by other factors in the dataset."
   ]
  },
  {
   "cell_type": "markdown",
   "id": "940bceb7",
   "metadata": {
    "papermill": {
     "duration": 0.095131,
     "end_time": "2022-01-24T14:51:01.590223",
     "exception": false,
     "start_time": "2022-01-24T14:51:01.495092",
     "status": "completed"
    },
    "tags": []
   },
   "source": [
    "### Enter Recursive Partitioning"
   ]
  },
  {
   "cell_type": "markdown",
   "id": "90f0b942",
   "metadata": {
    "papermill": {
     "duration": 0.094733,
     "end_time": "2022-01-24T14:51:01.780734",
     "exception": false,
     "start_time": "2022-01-24T14:51:01.686001",
     "status": "completed"
    },
    "tags": []
   },
   "source": [
    "Recursive partitioning, while not a silver bullet, can help address some of these issues. Essentially, recursive partitioning is a decision tree model which takes binary IVs (or creates them from continuous IVs) and iterates over a number of IV combinations to create a probabilistic estimation of the DV in question."
   ]
  },
  {
   "cell_type": "markdown",
   "id": "5a9ee0b1",
   "metadata": {
    "papermill": {
     "duration": 0.09492,
     "end_time": "2022-01-24T14:51:01.971017",
     "exception": false,
     "start_time": "2022-01-24T14:51:01.876097",
     "status": "completed"
    },
    "tags": []
   },
   "source": [
    "![regressiontrees](https://miro.medium.com/max/1400/1*WerHJ14JQAd3j8ASaVjAhw.jpeg)"
   ]
  },
  {
   "cell_type": "markdown",
   "id": "2aa46e1f",
   "metadata": {
    "papermill": {
     "duration": 0.095763,
     "end_time": "2022-01-24T14:51:02.162825",
     "exception": false,
     "start_time": "2022-01-24T14:51:02.067062",
     "status": "completed"
    },
    "tags": []
   },
   "source": [
    "In the remainder of this markdown document, we're going to take a look at a toy dataset and use `rpart` package to create a decision tree for our DV. As we go, we'll talk about the strengths and weaknesses of this approach and will provide comparison to logistic regression where relevant. However, there are a few important elements that you should evaluate prior to choosing this method. Take a look below to see if recursive partitioning is right for your project.\n",
    "\n",
    "**Recursive Partitioning may be a good choice for you if:**\n",
    "\n",
    "1.  Your dependent variable is binary or ordinal in nature,\n",
    "\n",
    "2.  You have a number of potentially related independent variables of any type,\n",
    "\n",
    "3.  You have missing data that you suspect is MNAR,\n",
    "\n",
    "4.  You are interested in creating an accuracy estimation (i.e. when IV1 == x and IV2 \\> y, there is a xx% chance that the DV == z),\n",
    "\n",
    "5.  You want to leverage a machine learning model that is transparent, simple, and efficient,\n",
    "\n",
    "6.  You are not worried about the potential for overfitting in your data - recursive partitioning has been shown to be more likely to overfit data that ensemble methods such as random forests. If you do suspect overfitting will cause major issues for your use-case, but the rest of these bullets sound compelling, check out the `ranger` package for random forests in R."
   ]
  },
  {
   "cell_type": "code",
   "execution_count": 1,
   "id": "d74ada74",
   "metadata": {
    "execution": {
     "iopub.execute_input": "2022-01-24T14:51:02.359976Z",
     "iopub.status.busy": "2022-01-24T14:51:02.357148Z",
     "iopub.status.idle": "2022-01-24T14:51:03.755392Z",
     "shell.execute_reply": "2022-01-24T14:51:03.754571Z"
    },
    "papermill": {
     "duration": 1.497724,
     "end_time": "2022-01-24T14:51:03.755558",
     "exception": false,
     "start_time": "2022-01-24T14:51:02.257834",
     "status": "completed"
    },
    "tags": []
   },
   "outputs": [
    {
     "name": "stderr",
     "output_type": "stream",
     "text": [
      "── \u001b[1mAttaching packages\u001b[22m ─────────────────────────────────────── tidyverse 1.3.1 ──\n",
      "\n",
      "\u001b[32m✔\u001b[39m \u001b[34mggplot2\u001b[39m 3.3.5     \u001b[32m✔\u001b[39m \u001b[34mpurrr  \u001b[39m 0.3.4\n",
      "\u001b[32m✔\u001b[39m \u001b[34mtibble \u001b[39m 3.1.5     \u001b[32m✔\u001b[39m \u001b[34mdplyr  \u001b[39m 1.0.7\n",
      "\u001b[32m✔\u001b[39m \u001b[34mtidyr  \u001b[39m 1.1.4     \u001b[32m✔\u001b[39m \u001b[34mstringr\u001b[39m 1.4.0\n",
      "\u001b[32m✔\u001b[39m \u001b[34mreadr  \u001b[39m 2.0.2     \u001b[32m✔\u001b[39m \u001b[34mforcats\u001b[39m 0.5.1\n",
      "\n",
      "── \u001b[1mConflicts\u001b[22m ────────────────────────────────────────── tidyverse_conflicts() ──\n",
      "\u001b[31m✖\u001b[39m \u001b[34mdplyr\u001b[39m::\u001b[32mfilter()\u001b[39m masks \u001b[34mstats\u001b[39m::filter()\n",
      "\u001b[31m✖\u001b[39m \u001b[34mdplyr\u001b[39m::\u001b[32mlag()\u001b[39m    masks \u001b[34mstats\u001b[39m::lag()\n",
      "\n"
     ]
    },
    {
     "data": {
      "text/html": [
       "<table class=\"dataframe\">\n",
       "<caption>A data.frame: 6 × 8</caption>\n",
       "<thead>\n",
       "\t<tr><th></th><th scope=col>mpg</th><th scope=col>cylinders</th><th scope=col>cubicinches</th><th scope=col>hp</th><th scope=col>weightlbs</th><th scope=col>time.to.60</th><th scope=col>year</th><th scope=col>brand</th></tr>\n",
       "\t<tr><th></th><th scope=col>&lt;dbl&gt;</th><th scope=col>&lt;int&gt;</th><th scope=col>&lt;int&gt;</th><th scope=col>&lt;int&gt;</th><th scope=col>&lt;int&gt;</th><th scope=col>&lt;int&gt;</th><th scope=col>&lt;int&gt;</th><th scope=col>&lt;chr&gt;</th></tr>\n",
       "</thead>\n",
       "<tbody>\n",
       "\t<tr><th scope=row>1</th><td>14.0</td><td>8</td><td>350</td><td>165</td><td>4209</td><td>12</td><td>1972</td><td> US.    </td></tr>\n",
       "\t<tr><th scope=row>2</th><td>31.9</td><td>4</td><td> 89</td><td> 71</td><td>1925</td><td>14</td><td>1980</td><td> Europe.</td></tr>\n",
       "\t<tr><th scope=row>3</th><td>17.0</td><td>8</td><td>302</td><td>140</td><td>3449</td><td>11</td><td>1971</td><td> US.    </td></tr>\n",
       "\t<tr><th scope=row>4</th><td>15.0</td><td>8</td><td>400</td><td>150</td><td>3761</td><td>10</td><td>1971</td><td> US.    </td></tr>\n",
       "\t<tr><th scope=row>5</th><td>30.5</td><td>4</td><td> 98</td><td> 63</td><td>2051</td><td>17</td><td>1978</td><td> US.    </td></tr>\n",
       "\t<tr><th scope=row>6</th><td>23.0</td><td>8</td><td>350</td><td>125</td><td>3900</td><td>17</td><td>1980</td><td> US.    </td></tr>\n",
       "</tbody>\n",
       "</table>\n"
      ],
      "text/latex": [
       "A data.frame: 6 × 8\n",
       "\\begin{tabular}{r|llllllll}\n",
       "  & mpg & cylinders & cubicinches & hp & weightlbs & time.to.60 & year & brand\\\\\n",
       "  & <dbl> & <int> & <int> & <int> & <int> & <int> & <int> & <chr>\\\\\n",
       "\\hline\n",
       "\t1 & 14.0 & 8 & 350 & 165 & 4209 & 12 & 1972 &  US.    \\\\\n",
       "\t2 & 31.9 & 4 &  89 &  71 & 1925 & 14 & 1980 &  Europe.\\\\\n",
       "\t3 & 17.0 & 8 & 302 & 140 & 3449 & 11 & 1971 &  US.    \\\\\n",
       "\t4 & 15.0 & 8 & 400 & 150 & 3761 & 10 & 1971 &  US.    \\\\\n",
       "\t5 & 30.5 & 4 &  98 &  63 & 2051 & 17 & 1978 &  US.    \\\\\n",
       "\t6 & 23.0 & 8 & 350 & 125 & 3900 & 17 & 1980 &  US.    \\\\\n",
       "\\end{tabular}\n"
      ],
      "text/markdown": [
       "\n",
       "A data.frame: 6 × 8\n",
       "\n",
       "| <!--/--> | mpg &lt;dbl&gt; | cylinders &lt;int&gt; | cubicinches &lt;int&gt; | hp &lt;int&gt; | weightlbs &lt;int&gt; | time.to.60 &lt;int&gt; | year &lt;int&gt; | brand &lt;chr&gt; |\n",
       "|---|---|---|---|---|---|---|---|---|\n",
       "| 1 | 14.0 | 8 | 350 | 165 | 4209 | 12 | 1972 |  US.     |\n",
       "| 2 | 31.9 | 4 |  89 |  71 | 1925 | 14 | 1980 |  Europe. |\n",
       "| 3 | 17.0 | 8 | 302 | 140 | 3449 | 11 | 1971 |  US.     |\n",
       "| 4 | 15.0 | 8 | 400 | 150 | 3761 | 10 | 1971 |  US.     |\n",
       "| 5 | 30.5 | 4 |  98 |  63 | 2051 | 17 | 1978 |  US.     |\n",
       "| 6 | 23.0 | 8 | 350 | 125 | 3900 | 17 | 1980 |  US.     |\n",
       "\n"
      ],
      "text/plain": [
       "  mpg  cylinders cubicinches hp  weightlbs time.to.60 year brand   \n",
       "1 14.0 8         350         165 4209      12         1972  US.    \n",
       "2 31.9 4          89          71 1925      14         1980  Europe.\n",
       "3 17.0 8         302         140 3449      11         1971  US.    \n",
       "4 15.0 8         400         150 3761      10         1971  US.    \n",
       "5 30.5 4          98          63 2051      17         1978  US.    \n",
       "6 23.0 8         350         125 3900      17         1980  US.    "
      ]
     },
     "metadata": {},
     "output_type": "display_data"
    }
   ],
   "source": [
    "##First, let's load up the cars dataset from Kaggle: https://www.kaggle.com/abineshkumark/carsdata and peek at the data\n",
    "\n",
    "##Loading up the Hadleyverse\n",
    "library(tidyverse)\n",
    "\n",
    "##Reading in the Data\n",
    "cars <- read.csv(\"../input/carsdata/cars.csv\")\n",
    "head(cars)"
   ]
  },
  {
   "cell_type": "markdown",
   "id": "58f7cb8c",
   "metadata": {
    "papermill": {
     "duration": 0.11302,
     "end_time": "2022-01-24T14:51:03.972297",
     "exception": false,
     "start_time": "2022-01-24T14:51:03.859277",
     "status": "completed"
    },
    "tags": []
   },
   "source": [
    "## Preparing the Data"
   ]
  },
  {
   "cell_type": "markdown",
   "id": "7442a08e",
   "metadata": {
    "papermill": {
     "duration": 0.114195,
     "end_time": "2022-01-24T14:51:04.211386",
     "exception": false,
     "start_time": "2022-01-24T14:51:04.097191",
     "status": "completed"
    },
    "tags": []
   },
   "source": [
    "The first thing that we'll need to do for this tutorial is define our IVs and DV. Let's say that, like me, you like to drive your car fast. So you decide that you want a car that does 0-60 in less than 15 seconds (this is still slow by modern standards, but, hey, it was the 70s!). So we'll make a 0-60 time above or below 15 seconds our DV (above 15+ seconds is 0 and <15 seconds is 1). Let's go ahead and make that modification to the dataset now."
   ]
  },
  {
   "cell_type": "code",
   "execution_count": 2,
   "id": "3cc9270f",
   "metadata": {
    "execution": {
     "iopub.execute_input": "2022-01-24T14:51:04.451925Z",
     "iopub.status.busy": "2022-01-24T14:51:04.418783Z",
     "iopub.status.idle": "2022-01-24T14:51:04.491127Z",
     "shell.execute_reply": "2022-01-24T14:51:04.489384Z"
    },
    "papermill": {
     "duration": 0.178739,
     "end_time": "2022-01-24T14:51:04.491279",
     "exception": false,
     "start_time": "2022-01-24T14:51:04.312540",
     "status": "completed"
    },
    "tags": []
   },
   "outputs": [
    {
     "data": {
      "text/html": [
       "<table class=\"dataframe\">\n",
       "<caption>A data.frame: 2 × 2</caption>\n",
       "<thead>\n",
       "\t<tr><th scope=col>Var1</th><th scope=col>Freq</th></tr>\n",
       "\t<tr><th scope=col>&lt;fct&gt;</th><th scope=col>&lt;int&gt;</th></tr>\n",
       "</thead>\n",
       "<tbody>\n",
       "\t<tr><td>0</td><td>172</td></tr>\n",
       "\t<tr><td>1</td><td> 89</td></tr>\n",
       "</tbody>\n",
       "</table>\n"
      ],
      "text/latex": [
       "A data.frame: 2 × 2\n",
       "\\begin{tabular}{ll}\n",
       " Var1 & Freq\\\\\n",
       " <fct> & <int>\\\\\n",
       "\\hline\n",
       "\t 0 & 172\\\\\n",
       "\t 1 &  89\\\\\n",
       "\\end{tabular}\n"
      ],
      "text/markdown": [
       "\n",
       "A data.frame: 2 × 2\n",
       "\n",
       "| Var1 &lt;fct&gt; | Freq &lt;int&gt; |\n",
       "|---|---|\n",
       "| 0 | 172 |\n",
       "| 1 |  89 |\n",
       "\n"
      ],
      "text/plain": [
       "  Var1 Freq\n",
       "1 0    172 \n",
       "2 1     89 "
      ]
     },
     "metadata": {},
     "output_type": "display_data"
    }
   ],
   "source": [
    "##Using case_when to create our new variable: fast\n",
    "cars <- cars %>%\n",
    "  mutate(fast = case_when(time.to.60 < 15 ~ 1,\n",
    "                          time.to.60 >= 15 ~ 0))\n",
    "\n",
    "##Let's see how many of our cars are fast\n",
    "as.data.frame(table(cars$fast))"
   ]
  },
  {
   "cell_type": "markdown",
   "id": "cb71747f",
   "metadata": {
    "papermill": {
     "duration": 0.10409,
     "end_time": "2022-01-24T14:51:04.700492",
     "exception": false,
     "start_time": "2022-01-24T14:51:04.596402",
     "status": "completed"
    },
    "tags": []
   },
   "source": [
    "That's not a ton of cars. Luckily, recursive partitioning can handle smaller sample sizes with relative ease. To ensure that our data are as accurate as possible, let's take a subsample of these data on which we will train the ML model and then compare our results to the real data. We'll call the set.seed and sample functions to achieve this."
   ]
  },
  {
   "cell_type": "code",
   "execution_count": 3,
   "id": "41680cd9",
   "metadata": {
    "execution": {
     "iopub.execute_input": "2022-01-24T14:51:04.921647Z",
     "iopub.status.busy": "2022-01-24T14:51:04.919409Z",
     "iopub.status.idle": "2022-01-24T14:51:04.945442Z",
     "shell.execute_reply": "2022-01-24T14:51:04.943701Z"
    },
    "papermill": {
     "duration": 0.139965,
     "end_time": "2022-01-24T14:51:04.945609",
     "exception": false,
     "start_time": "2022-01-24T14:51:04.805644",
     "status": "completed"
    },
    "tags": []
   },
   "outputs": [],
   "source": [
    "##Creating proportion (70%) of the data to use for training\n",
    "ss <- floor(0.7 * nrow(cars))\n",
    "\n",
    "##Setting seed to make the partition reproducible\n",
    "set.seed(500)\n",
    "train_ss <- sample(seq_len(nrow(cars)), size = ss)\n",
    "\n",
    "##Splitting the data based on the partition created above\n",
    "cars_train <- cars[train_ss, ]\n",
    "cars_test <- cars[-train_ss, ]"
   ]
  },
  {
   "cell_type": "markdown",
   "id": "89690cef",
   "metadata": {
    "papermill": {
     "duration": 0.106958,
     "end_time": "2022-01-24T14:51:05.157484",
     "exception": false,
     "start_time": "2022-01-24T14:51:05.050526",
     "status": "completed"
    },
    "tags": []
   },
   "source": [
    "Ok, cool. Now we've randomly distributed our data over a training and testing sample, with 70% of the data occupying the training set and 30% occupying the testing set. These ratios can be modified based on your use case. Typically, the larger the portion of the sample on which you train, the lower the likelihood of overfitting (unless your sample are homogeneous). With smaller data sets, you'll need to make a judgment call recognizing that, as in this example, if the data are randomly distributed, only 70% of the 89 fast cars will be included in the training data, which is only 62 examples (not a lot). Even scarier will be the precision that will be required of the model to find the remaining 17 fast cars in the test set. Let's see how we do!"
   ]
  },
  {
   "cell_type": "markdown",
   "id": "a770f748",
   "metadata": {
    "papermill": {
     "duration": 0.104022,
     "end_time": "2022-01-24T14:51:05.365521",
     "exception": false,
     "start_time": "2022-01-24T14:51:05.261499",
     "status": "completed"
    },
    "tags": []
   },
   "source": [
    "## Selecting our Predictors (IVs)"
   ]
  },
  {
   "cell_type": "markdown",
   "id": "9462f6b3",
   "metadata": {
    "papermill": {
     "duration": 0.106012,
     "end_time": "2022-01-24T14:51:05.576106",
     "exception": false,
     "start_time": "2022-01-24T14:51:05.470094",
     "status": "completed"
    },
    "tags": []
   },
   "source": [
    "Now that we've split up the data, let's decide what we want to use as IVs. We could, obviously, just feed the model EVERY variable in our dataset. However, that's a pretty blunt force approach and may actually complicate or reduce the accuracy of the prediction. Instead, let's try to think about MODELING 0-60 time and focusing on only the MOST relevant data.\n",
    "\n",
    "As a bit of a gear-head, I can help guide us here. Typically there are a few MOST important elements to 0-60 time: cylinders, displacement (cubicinches in this dataset), and weight. Additionally, cars have been getting faster over time, so year probably matters and mpg is usually inversely related to 0-60 time. So my recommendation is that we use the following variables: `mpg`, `cylinders`, `cubicinches`, `weightlbs`, and `year` as IVs. Wait, why not horsepower? Well, horsepower is usually a function of engine size (number of cylinders and displacement), so we don't really need that as well."
   ]
  },
  {
   "cell_type": "markdown",
   "id": "aff72bc8",
   "metadata": {
    "papermill": {
     "duration": 0.103318,
     "end_time": "2022-01-24T14:51:05.783507",
     "exception": false,
     "start_time": "2022-01-24T14:51:05.680189",
     "status": "completed"
    },
    "tags": []
   },
   "source": [
    "![horsepower](https://i.pinimg.com/originals/0f/04/02/0f04022bb030df503371289526e7feec.jpg)"
   ]
  },
  {
   "cell_type": "markdown",
   "id": "79f2126c",
   "metadata": {
    "papermill": {
     "duration": 0.122679,
     "end_time": "2022-01-24T14:51:06.020729",
     "exception": false,
     "start_time": "2022-01-24T14:51:05.898050",
     "status": "completed"
    },
    "tags": []
   },
   "source": [
    "But wait...aren't cylinder number and displacement related? Well, yes. That being said, there are some larger displacement engines with a smaller number of cylinders and vice versa. So yes, there probably is a relationship between these two variables, but probably not so much that it's a guarantee that one is a proxy for the other (in the way that their combination is a proxy for horsepower). This is a spot where multicollinearity would like cause issues in a logistic regression model...more on this to come...\n",
    "\n",
    "Now, let's go ahead and drop the variables in our training dataset in which we are not interested:"
   ]
  },
  {
   "cell_type": "code",
   "execution_count": 4,
   "id": "fdda9631",
   "metadata": {
    "execution": {
     "iopub.execute_input": "2022-01-24T14:51:06.236067Z",
     "iopub.status.busy": "2022-01-24T14:51:06.234345Z",
     "iopub.status.idle": "2022-01-24T14:51:06.249237Z",
     "shell.execute_reply": "2022-01-24T14:51:06.247843Z"
    },
    "papermill": {
     "duration": 0.123484,
     "end_time": "2022-01-24T14:51:06.249386",
     "exception": false,
     "start_time": "2022-01-24T14:51:06.125902",
     "status": "completed"
    },
    "tags": []
   },
   "outputs": [],
   "source": [
    "##Retaining only the target variables\n",
    "cars_train <- cars_train %>%\n",
    "  subset(., select = -c(hp, time.to.60, brand))"
   ]
  },
  {
   "cell_type": "markdown",
   "id": "24c4418c",
   "metadata": {
    "papermill": {
     "duration": 0.105302,
     "end_time": "2022-01-24T14:51:06.461452",
     "exception": false,
     "start_time": "2022-01-24T14:51:06.356150",
     "status": "completed"
    },
    "tags": []
   },
   "source": [
    "## Statistics Time!"
   ]
  },
  {
   "cell_type": "markdown",
   "id": "66d1c484",
   "metadata": {
    "papermill": {
     "duration": 0.103575,
     "end_time": "2022-01-24T14:51:06.669205",
     "exception": false,
     "start_time": "2022-01-24T14:51:06.565630",
     "status": "completed"
    },
    "tags": []
   },
   "source": [
    "Up to this point, there's really nothing that we've done that would be substantively different from a logistic regression model. As a result, let's go ahead and run a GLM to see what happens!"
   ]
  },
  {
   "cell_type": "code",
   "execution_count": 5,
   "id": "3184dfa5",
   "metadata": {
    "execution": {
     "iopub.execute_input": "2022-01-24T14:51:06.883037Z",
     "iopub.status.busy": "2022-01-24T14:51:06.881419Z",
     "iopub.status.idle": "2022-01-24T14:51:06.928499Z",
     "shell.execute_reply": "2022-01-24T14:51:06.927157Z"
    },
    "papermill": {
     "duration": 0.155743,
     "end_time": "2022-01-24T14:51:06.928644",
     "exception": false,
     "start_time": "2022-01-24T14:51:06.772901",
     "status": "completed"
    },
    "tags": []
   },
   "outputs": [
    {
     "data": {
      "text/plain": [
       "\n",
       "Call:\n",
       "glm(formula = fast ~ ., family = binomial, data = cars_train, \n",
       "    na.action = na.omit)\n",
       "\n",
       "Deviance Residuals: \n",
       "    Min       1Q   Median       3Q      Max  \n",
       "-1.6332  -0.5997  -0.4118   0.6491   2.4311  \n",
       "\n",
       "Coefficients:\n",
       "              Estimate Std. Error z value Pr(>|z|)   \n",
       "(Intercept) -44.471675 144.984365  -0.307  0.75905   \n",
       "mpg          -0.070122   0.065009  -1.079  0.28074   \n",
       "cylinders     0.022073   0.356091   0.062  0.95057   \n",
       "cubicinches   0.020955   0.008010   2.616  0.00889 **\n",
       "weightlbs    -0.001508   0.000752  -2.005  0.04491 * \n",
       "year          0.022971   0.074116   0.310  0.75661   \n",
       "---\n",
       "Signif. codes:  0 ‘***’ 0.001 ‘**’ 0.01 ‘*’ 0.05 ‘.’ 0.1 ‘ ’ 1\n",
       "\n",
       "(Dispersion parameter for binomial family taken to be 1)\n",
       "\n",
       "    Null deviance: 230.51  on 179  degrees of freedom\n",
       "Residual deviance: 160.78  on 174  degrees of freedom\n",
       "  (2 observations deleted due to missingness)\n",
       "AIC: 172.78\n",
       "\n",
       "Number of Fisher Scoring iterations: 5\n"
      ]
     },
     "metadata": {},
     "output_type": "display_data"
    }
   ],
   "source": [
    "##Running the glm and evaluating the results\n",
    "glm <- glm(fast ~ .,\n",
    "           data = cars_train,\n",
    "           family = binomial, \n",
    "           na.action = na.omit)\n",
    "\n",
    "#Creating table\n",
    "summary(glm)"
   ]
  },
  {
   "cell_type": "markdown",
   "id": "856bebd2",
   "metadata": {
    "papermill": {
     "duration": 0.107251,
     "end_time": "2022-01-24T14:51:07.145559",
     "exception": false,
     "start_time": "2022-01-24T14:51:07.038308",
     "status": "completed"
    },
    "tags": []
   },
   "source": [
    "So far, this looks like we're on to something. While `mpg`, `cylinders`, and `year` did not seem to have much impact, `cubicinches` and `weightlbs` demonstrated statistical significance.\n",
    "\n",
    "Now, in this case, we decided to just drop any rows with missing data (further reducing our sample size). But wait...we didn't check for multicollinearity. Should probably do that. We'll use `car::vif` to evaluate multicollinearity. We're looking for values UNDER 5 or else we're going to be quite skeptical of the results we just got above."
   ]
  },
  {
   "cell_type": "code",
   "execution_count": 6,
   "id": "55d70da5",
   "metadata": {
    "execution": {
     "iopub.execute_input": "2022-01-24T14:51:07.373842Z",
     "iopub.status.busy": "2022-01-24T14:51:07.363317Z",
     "iopub.status.idle": "2022-01-24T14:51:07.796986Z",
     "shell.execute_reply": "2022-01-24T14:51:07.795456Z"
    },
    "papermill": {
     "duration": 0.544698,
     "end_time": "2022-01-24T14:51:07.797141",
     "exception": false,
     "start_time": "2022-01-24T14:51:07.252443",
     "status": "completed"
    },
    "tags": []
   },
   "outputs": [
    {
     "name": "stderr",
     "output_type": "stream",
     "text": [
      "Loading required package: carData\n",
      "\n",
      "\n",
      "Attaching package: ‘car’\n",
      "\n",
      "\n",
      "The following object is masked from ‘package:dplyr’:\n",
      "\n",
      "    recode\n",
      "\n",
      "\n",
      "The following object is masked from ‘package:purrr’:\n",
      "\n",
      "    some\n",
      "\n",
      "\n"
     ]
    },
    {
     "data": {
      "text/html": [
       "<table class=\"dataframe\">\n",
       "<caption>A data.frame: 5 × 1</caption>\n",
       "<thead>\n",
       "\t<tr><th></th><th scope=col>car::vif(glm)</th></tr>\n",
       "\t<tr><th></th><th scope=col>&lt;dbl&gt;</th></tr>\n",
       "</thead>\n",
       "<tbody>\n",
       "\t<tr><th scope=row>mpg</th><td> 4.848877</td></tr>\n",
       "\t<tr><th scope=row>cylinders</th><td> 9.002046</td></tr>\n",
       "\t<tr><th scope=row>cubicinches</th><td>15.148926</td></tr>\n",
       "\t<tr><th scope=row>weightlbs</th><td> 9.499400</td></tr>\n",
       "\t<tr><th scope=row>year</th><td> 1.692238</td></tr>\n",
       "</tbody>\n",
       "</table>\n"
      ],
      "text/latex": [
       "A data.frame: 5 × 1\n",
       "\\begin{tabular}{r|l}\n",
       "  & car::vif(glm)\\\\\n",
       "  & <dbl>\\\\\n",
       "\\hline\n",
       "\tmpg &  4.848877\\\\\n",
       "\tcylinders &  9.002046\\\\\n",
       "\tcubicinches & 15.148926\\\\\n",
       "\tweightlbs &  9.499400\\\\\n",
       "\tyear &  1.692238\\\\\n",
       "\\end{tabular}\n"
      ],
      "text/markdown": [
       "\n",
       "A data.frame: 5 × 1\n",
       "\n",
       "| <!--/--> | car::vif(glm) &lt;dbl&gt; |\n",
       "|---|---|\n",
       "| mpg |  4.848877 |\n",
       "| cylinders |  9.002046 |\n",
       "| cubicinches | 15.148926 |\n",
       "| weightlbs |  9.499400 |\n",
       "| year |  1.692238 |\n",
       "\n"
      ],
      "text/plain": [
       "            car::vif(glm)\n",
       "mpg          4.848877    \n",
       "cylinders    9.002046    \n",
       "cubicinches 15.148926    \n",
       "weightlbs    9.499400    \n",
       "year         1.692238    "
      ]
     },
     "metadata": {},
     "output_type": "display_data"
    }
   ],
   "source": [
    "##Checking on Multicollinearity\n",
    "library(car)\n",
    "\n",
    "as.data.frame(car::vif(glm))"
   ]
  },
  {
   "cell_type": "markdown",
   "id": "307c4d18",
   "metadata": {
    "papermill": {
     "duration": 0.113349,
     "end_time": "2022-01-24T14:51:08.024985",
     "exception": false,
     "start_time": "2022-01-24T14:51:07.911636",
     "status": "completed"
    },
    "tags": []
   },
   "source": [
    "**Aw nuts!** As anticipated, we're finding multicollinearity in `cylinders` and `cubicinches`. We're also seeing multicollinearity in `weightlbs`, which makes sense given that larger values for cylinders and cubic inches are related to weight. So yes, it's nice that we got some statistically significant results, but now we're really concerned about the accuracy. If this was all you had in the pocket, you'd have to either make major changes to your model or you'd need to throw in the towel. Luckily, we've got recursive partitioning to fall back on!"
   ]
  },
  {
   "cell_type": "markdown",
   "id": "6eced488",
   "metadata": {
    "papermill": {
     "duration": 0.112984,
     "end_time": "2022-01-24T14:51:08.251143",
     "exception": false,
     "start_time": "2022-01-24T14:51:08.138159",
     "status": "completed"
    },
    "tags": []
   },
   "source": [
    "## Machine Learning Alternative"
   ]
  },
  {
   "cell_type": "markdown",
   "id": "c1152808",
   "metadata": {
    "papermill": {
     "duration": 0.113564,
     "end_time": "2022-01-24T14:51:08.477051",
     "exception": false,
     "start_time": "2022-01-24T14:51:08.363487",
     "status": "completed"
    },
    "tags": []
   },
   "source": [
    "Finally, it's time to do some machine learning!"
   ]
  },
  {
   "cell_type": "markdown",
   "id": "21c74106",
   "metadata": {
    "papermill": {
     "duration": 0.11518,
     "end_time": "2022-01-24T14:51:08.704175",
     "exception": false,
     "start_time": "2022-01-24T14:51:08.588995",
     "status": "completed"
    },
    "tags": []
   },
   "source": [
    "![ML](https://media.makeameme.org/created/machine-learning-machine-884d19c7bd.jpg)"
   ]
  },
  {
   "cell_type": "markdown",
   "id": "ec0114f4",
   "metadata": {
    "papermill": {
     "duration": 0.115352,
     "end_time": "2022-01-24T14:51:08.932212",
     "exception": false,
     "start_time": "2022-01-24T14:51:08.816860",
     "status": "completed"
    },
    "tags": []
   },
   "source": [
    "We've discovered that our typical glm approach isn't going to work because there's multicollinearity in 3 of our 5 IVs. Let's give recursive partitioning via the `rpart` package a try and see if we can still manage to find some interesting information despite this issue."
   ]
  },
  {
   "cell_type": "code",
   "execution_count": 7,
   "id": "9b09bcea",
   "metadata": {
    "execution": {
     "iopub.execute_input": "2022-01-24T14:51:09.169216Z",
     "iopub.status.busy": "2022-01-24T14:51:09.167322Z",
     "iopub.status.idle": "2022-01-24T14:51:09.252257Z",
     "shell.execute_reply": "2022-01-24T14:51:09.250688Z"
    },
    "papermill": {
     "duration": 0.204172,
     "end_time": "2022-01-24T14:51:09.252416",
     "exception": false,
     "start_time": "2022-01-24T14:51:09.048244",
     "status": "completed"
    },
    "tags": []
   },
   "outputs": [],
   "source": [
    "##Running the recursive partitioning model, visualizing tree\n",
    "library(rpart, quietly = T)\n",
    "library(rpart.plot, quietly = T)\n",
    "\n",
    "rpart <- rpart(fast ~ .,                     #Formula for the rpart algorithm\n",
    "               data = cars_train,            #Dataset for variables\n",
    "               na.action = na.rpart)         #Accommodate missingness\n",
    "\n",
    "##This code produces the image below, but is being commented out for formatting purposes\n",
    "#prp(rpart, \n",
    "    #fallen.leaves = T,                       #Cleaning up the looks\n",
    "    #type = 0,                                #Showing probabilities at end of node\n",
    "    #yesno = 2,                               #Including y/n at each branch\n",
    "    #extra = 101,                             #Showing n/% of sample per node\n",
    "    #main = \"Probability of Fast Car\",        #Titling graph\n",
    "    #shadow.col = \"gray\",                     #Adding shadow to the nodes\n",
    "    #border.col = \"green\")                    #Adding fill color to the nodes"
   ]
  },
  {
   "cell_type": "markdown",
   "id": "9cde1b97",
   "metadata": {
    "papermill": {
     "duration": 0.115221,
     "end_time": "2022-01-24T14:51:09.481099",
     "exception": false,
     "start_time": "2022-01-24T14:51:09.365878",
     "status": "completed"
    },
    "tags": []
   },
   "source": [
    "![rpart](data:image/png;base64,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)"
   ]
  },
  {
   "cell_type": "markdown",
   "id": "55e9366d",
   "metadata": {
    "papermill": {
     "duration": 0.113775,
     "end_time": "2022-01-24T14:51:09.708148",
     "exception": false,
     "start_time": "2022-01-24T14:51:09.594373",
     "status": "completed"
    },
    "tags": []
   },
   "source": [
    "Take a look at this graph. After iterating over the data numerous times, this algorithm decided that this path was the most efficient path for determining the probability that a car has a 0-60 time above or below 15 seconds. Interestingly, where the glm model did not indicate any meaningful relationship of mpg, this model shows that, for cars with lower displacement, lower mpg could also indicate a higher probability of a fast 0-60 time!\n",
    "\n",
    "And what about that `na.action = na.rpart` line? What's happening there? Well, the recursive partitioning model is dropping only cases where the DV is absent or ALL the IVs are absent. For those where some missing data is present, the model will attempt to evaluate the probability with only the IVs available. The advantage of this approach is that we don't impute data that might be inaccurate and unduly inflate the impact of our IVs while still evaluating all the rows of data. In logistic regression, we would be forced to either impute the values or drop the cases with any missingness. For large datasets with high proportions of missingness, this provides a \"path of least resistance\" approach to handling missing data that will maintain usefulness of the outcomes!\n",
    "\n",
    "Now, let's go ahead and apply these data to our test set and see how accurate we are!"
   ]
  },
  {
   "cell_type": "code",
   "execution_count": 8,
   "id": "6e242ed1",
   "metadata": {
    "execution": {
     "iopub.execute_input": "2022-01-24T14:51:09.977261Z",
     "iopub.status.busy": "2022-01-24T14:51:09.938770Z",
     "iopub.status.idle": "2022-01-24T14:51:10.014854Z",
     "shell.execute_reply": "2022-01-24T14:51:10.013262Z"
    },
    "papermill": {
     "duration": 0.193626,
     "end_time": "2022-01-24T14:51:10.015051",
     "exception": false,
     "start_time": "2022-01-24T14:51:09.821425",
     "status": "completed"
    },
    "tags": []
   },
   "outputs": [
    {
     "data": {
      "text/html": [
       "<table class=\"dataframe\">\n",
       "<caption>A data.frame: 1 × 2</caption>\n",
       "<thead>\n",
       "\t<tr><th scope=col>Hit</th><th scope=col>Miss</th></tr>\n",
       "\t<tr><th scope=col>&lt;dbl&gt;</th><th scope=col>&lt;dbl&gt;</th></tr>\n",
       "</thead>\n",
       "<tbody>\n",
       "\t<tr><td>86.07595</td><td>13.92405</td></tr>\n",
       "</tbody>\n",
       "</table>\n"
      ],
      "text/latex": [
       "A data.frame: 1 × 2\n",
       "\\begin{tabular}{ll}\n",
       " Hit & Miss\\\\\n",
       " <dbl> & <dbl>\\\\\n",
       "\\hline\n",
       "\t 86.07595 & 13.92405\\\\\n",
       "\\end{tabular}\n"
      ],
      "text/markdown": [
       "\n",
       "A data.frame: 1 × 2\n",
       "\n",
       "| Hit &lt;dbl&gt; | Miss &lt;dbl&gt; |\n",
       "|---|---|\n",
       "| 86.07595 | 13.92405 |\n",
       "\n"
      ],
      "text/plain": [
       "  Hit      Miss    \n",
       "1 86.07595 13.92405"
      ]
     },
     "metadata": {},
     "output_type": "display_data"
    }
   ],
   "source": [
    "##Adding fitted values to the test set\n",
    "cars_test$fit_vals <- predict(object = rpart, \n",
    "                              newdata = cars_test, \n",
    "                              level = 0.99, \n",
    "                              na.action = na.rpart)\n",
    "\n",
    "##Mutating the values to 1 and 0 based on .5 cut score for 0/1 split\n",
    "cars_test <- cars_test %>%\n",
    "  mutate(fit_vals = case_when(fit_vals < .5 ~ 0,\n",
    "                              fit_vals >= .5 ~ 1))\n",
    "\n",
    "##Calculating the proportion of matches\n",
    "cars_test %>%\n",
    "        summarise(Hit = (length(which(fast == fit_vals))/79)*100,\n",
    "                  Miss = (length(which(fast != fit_vals))/79)*100)"
   ]
  },
  {
   "cell_type": "markdown",
   "id": "f754e549",
   "metadata": {
    "papermill": {
     "duration": 0.115894,
     "end_time": "2022-01-24T14:51:10.248703",
     "exception": false,
     "start_time": "2022-01-24T14:51:10.132809",
     "status": "completed"
    },
    "tags": []
   },
   "source": [
    "**Look at that!** **86% accuracy in predicting whether or not a car will be fast!** That's pretty good, especially given this small sample size! Additionally, it's pretty easy to interpret these results and to make some actionable recommendations to the car buyer in your life. With a individual-level dataset, we're often working on row numbers 10x this size or greater. The larger these datasets, the stronger the predictive accuracy is likely to become.\n",
    "\n",
    "Finally, if you think about the process of providing these results to the client, you can always look at the results in-depth (`use summary(rpart)`), but the visualization produced in this case is easy to follow and may allow clients to make statistically informed decisions in a relatively straightforward manner. Want your car to be faster? Make sure you have more cubic inches in your engine or bring down the weight. Don't worry so much about the number of cylinders. One can imagine how helpful this would be if one were trying to determine which curriculum to choose, or which students are least likely to meet testing benchmarks and require support as a result."
   ]
  }
 ],
 "metadata": {
  "kernelspec": {
   "display_name": "R",
   "language": "R",
   "name": "ir"
  },
  "language_info": {
   "codemirror_mode": "r",
   "file_extension": ".r",
   "mimetype": "text/x-r-source",
   "name": "R",
   "pygments_lexer": "r",
   "version": "4.0.5"
  },
  "papermill": {
   "default_parameters": {},
   "duration": 15.457167,
   "end_time": "2022-01-24T14:51:10.474875",
   "environment_variables": {},
   "exception": null,
   "input_path": "__notebook__.ipynb",
   "output_path": "__notebook__.ipynb",
   "parameters": {},
   "start_time": "2022-01-24T14:50:55.017708",
   "version": "2.3.3"
  }
 },
 "nbformat": 4,
 "nbformat_minor": 5
}
